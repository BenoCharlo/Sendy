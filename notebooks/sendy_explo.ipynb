{
 "cells": [
  {
   "cell_type": "markdown",
   "metadata": {},
   "source": [
    "# **PACKAGES**"
   ]
  },
  {
   "cell_type": "code",
   "execution_count": 1,
   "metadata": {},
   "outputs": [],
   "source": [
    "import os\n",
    "import numpy as np\n",
    "import pandas as pd\n",
    "import seaborn as sns; sns.set()\n",
    "import matplotlib.pyplot as plt\n",
    "%matplotlib inline\n",
    "\n",
    "ROOT_DIR = os.getcwd()\n",
    "if not ROOT_DIR.endswith('sendy_scripts'):\n",
    "    ROOT_DIR = os.path.dirname(ROOT_DIR)\n",
    "    \n",
    "os.chdir(ROOT_DIR)\n",
    "\n",
    "import folium"
   ]
  },
  {
   "cell_type": "markdown",
   "metadata": {},
   "source": [
    "."
   ]
  },
  {
   "cell_type": "markdown",
   "metadata": {},
   "source": [
    "# **DATA LOADING**"
   ]
  },
  {
   "cell_type": "code",
   "execution_count": 2,
   "metadata": {},
   "outputs": [],
   "source": [
    "train = pd.read_csv(\"../data/Train.csv\")\n",
    "test = pd.read_csv(\"../data/Test.csv\")\n",
    "riders = pd.read_csv(\"../data/Riders.csv\")"
   ]
  },
  {
   "cell_type": "code",
   "execution_count": 6,
   "metadata": {},
   "outputs": [],
   "source": [
    "train = train.merge(riders, on=\"Rider Id\", how=\"left\")\n",
    "test = test.merge(riders, on=\"Rider Id\", how=\"left\")"
   ]
  },
  {
   "cell_type": "code",
   "execution_count": 7,
   "metadata": {},
   "outputs": [
    {
     "data": {
      "text/html": [
       "<div>\n",
       "<style scoped>\n",
       "    .dataframe tbody tr th:only-of-type {\n",
       "        vertical-align: middle;\n",
       "    }\n",
       "\n",
       "    .dataframe tbody tr th {\n",
       "        vertical-align: top;\n",
       "    }\n",
       "\n",
       "    .dataframe thead th {\n",
       "        text-align: right;\n",
       "    }\n",
       "</style>\n",
       "<table border=\"1\" class=\"dataframe\">\n",
       "  <thead>\n",
       "    <tr style=\"text-align: right;\">\n",
       "      <th></th>\n",
       "      <th>0</th>\n",
       "      <th>1</th>\n",
       "      <th>2</th>\n",
       "      <th>3</th>\n",
       "      <th>4</th>\n",
       "    </tr>\n",
       "  </thead>\n",
       "  <tbody>\n",
       "    <tr>\n",
       "      <th>Order No</th>\n",
       "      <td>Order_No_4211</td>\n",
       "      <td>Order_No_25375</td>\n",
       "      <td>Order_No_1899</td>\n",
       "      <td>Order_No_9336</td>\n",
       "      <td>Order_No_27883</td>\n",
       "    </tr>\n",
       "    <tr>\n",
       "      <th>User Id</th>\n",
       "      <td>User_Id_633</td>\n",
       "      <td>User_Id_2285</td>\n",
       "      <td>User_Id_265</td>\n",
       "      <td>User_Id_1402</td>\n",
       "      <td>User_Id_1737</td>\n",
       "    </tr>\n",
       "    <tr>\n",
       "      <th>Vehicle Type</th>\n",
       "      <td>Bike</td>\n",
       "      <td>Bike</td>\n",
       "      <td>Bike</td>\n",
       "      <td>Bike</td>\n",
       "      <td>Bike</td>\n",
       "    </tr>\n",
       "    <tr>\n",
       "      <th>Platform Type</th>\n",
       "      <td>3</td>\n",
       "      <td>3</td>\n",
       "      <td>3</td>\n",
       "      <td>3</td>\n",
       "      <td>1</td>\n",
       "    </tr>\n",
       "    <tr>\n",
       "      <th>Personal or Business</th>\n",
       "      <td>Business</td>\n",
       "      <td>Personal</td>\n",
       "      <td>Business</td>\n",
       "      <td>Business</td>\n",
       "      <td>Personal</td>\n",
       "    </tr>\n",
       "    <tr>\n",
       "      <th>Placement - Day of Month</th>\n",
       "      <td>9</td>\n",
       "      <td>12</td>\n",
       "      <td>30</td>\n",
       "      <td>15</td>\n",
       "      <td>13</td>\n",
       "    </tr>\n",
       "    <tr>\n",
       "      <th>Placement - Weekday (Mo = 1)</th>\n",
       "      <td>5</td>\n",
       "      <td>5</td>\n",
       "      <td>2</td>\n",
       "      <td>5</td>\n",
       "      <td>1</td>\n",
       "    </tr>\n",
       "    <tr>\n",
       "      <th>Placement - Time</th>\n",
       "      <td>9:35:46 AM</td>\n",
       "      <td>11:16:16 AM</td>\n",
       "      <td>12:39:25 PM</td>\n",
       "      <td>9:25:34 AM</td>\n",
       "      <td>9:55:18 AM</td>\n",
       "    </tr>\n",
       "    <tr>\n",
       "      <th>Confirmation - Day of Month</th>\n",
       "      <td>9</td>\n",
       "      <td>12</td>\n",
       "      <td>30</td>\n",
       "      <td>15</td>\n",
       "      <td>13</td>\n",
       "    </tr>\n",
       "    <tr>\n",
       "      <th>Confirmation - Weekday (Mo = 1)</th>\n",
       "      <td>5</td>\n",
       "      <td>5</td>\n",
       "      <td>2</td>\n",
       "      <td>5</td>\n",
       "      <td>1</td>\n",
       "    </tr>\n",
       "    <tr>\n",
       "      <th>Confirmation - Time</th>\n",
       "      <td>9:40:10 AM</td>\n",
       "      <td>11:23:21 AM</td>\n",
       "      <td>12:42:44 PM</td>\n",
       "      <td>9:26:05 AM</td>\n",
       "      <td>9:56:18 AM</td>\n",
       "    </tr>\n",
       "    <tr>\n",
       "      <th>Arrival at Pickup - Day of Month</th>\n",
       "      <td>9</td>\n",
       "      <td>12</td>\n",
       "      <td>30</td>\n",
       "      <td>15</td>\n",
       "      <td>13</td>\n",
       "    </tr>\n",
       "    <tr>\n",
       "      <th>Arrival at Pickup - Weekday (Mo = 1)</th>\n",
       "      <td>5</td>\n",
       "      <td>5</td>\n",
       "      <td>2</td>\n",
       "      <td>5</td>\n",
       "      <td>1</td>\n",
       "    </tr>\n",
       "    <tr>\n",
       "      <th>Arrival at Pickup - Time</th>\n",
       "      <td>10:04:47 AM</td>\n",
       "      <td>11:40:22 AM</td>\n",
       "      <td>12:49:34 PM</td>\n",
       "      <td>9:37:56 AM</td>\n",
       "      <td>10:03:53 AM</td>\n",
       "    </tr>\n",
       "    <tr>\n",
       "      <th>Pickup - Day of Month</th>\n",
       "      <td>9</td>\n",
       "      <td>12</td>\n",
       "      <td>30</td>\n",
       "      <td>15</td>\n",
       "      <td>13</td>\n",
       "    </tr>\n",
       "    <tr>\n",
       "      <th>Pickup - Weekday (Mo = 1)</th>\n",
       "      <td>5</td>\n",
       "      <td>5</td>\n",
       "      <td>2</td>\n",
       "      <td>5</td>\n",
       "      <td>1</td>\n",
       "    </tr>\n",
       "    <tr>\n",
       "      <th>Pickup - Time</th>\n",
       "      <td>10:27:30 AM</td>\n",
       "      <td>11:44:09 AM</td>\n",
       "      <td>12:53:03 PM</td>\n",
       "      <td>9:43:06 AM</td>\n",
       "      <td>10:05:23 AM</td>\n",
       "    </tr>\n",
       "    <tr>\n",
       "      <th>Arrival at Destination - Day of Month</th>\n",
       "      <td>9</td>\n",
       "      <td>12</td>\n",
       "      <td>30</td>\n",
       "      <td>15</td>\n",
       "      <td>13</td>\n",
       "    </tr>\n",
       "    <tr>\n",
       "      <th>Arrival at Destination - Weekday (Mo = 1)</th>\n",
       "      <td>5</td>\n",
       "      <td>5</td>\n",
       "      <td>2</td>\n",
       "      <td>5</td>\n",
       "      <td>1</td>\n",
       "    </tr>\n",
       "    <tr>\n",
       "      <th>Arrival at Destination - Time</th>\n",
       "      <td>10:39:55 AM</td>\n",
       "      <td>12:17:22 PM</td>\n",
       "      <td>1:00:38 PM</td>\n",
       "      <td>10:05:27 AM</td>\n",
       "      <td>10:25:37 AM</td>\n",
       "    </tr>\n",
       "    <tr>\n",
       "      <th>Distance (KM)</th>\n",
       "      <td>4</td>\n",
       "      <td>16</td>\n",
       "      <td>3</td>\n",
       "      <td>9</td>\n",
       "      <td>9</td>\n",
       "    </tr>\n",
       "    <tr>\n",
       "      <th>Temperature</th>\n",
       "      <td>20.4</td>\n",
       "      <td>26.4</td>\n",
       "      <td>NaN</td>\n",
       "      <td>19.2</td>\n",
       "      <td>15.4</td>\n",
       "    </tr>\n",
       "    <tr>\n",
       "      <th>Precipitation in millimeters</th>\n",
       "      <td>NaN</td>\n",
       "      <td>NaN</td>\n",
       "      <td>NaN</td>\n",
       "      <td>NaN</td>\n",
       "      <td>NaN</td>\n",
       "    </tr>\n",
       "    <tr>\n",
       "      <th>Pickup Lat</th>\n",
       "      <td>-1.31775</td>\n",
       "      <td>-1.35145</td>\n",
       "      <td>-1.30828</td>\n",
       "      <td>-1.2813</td>\n",
       "      <td>-1.2666</td>\n",
       "    </tr>\n",
       "    <tr>\n",
       "      <th>Pickup Long</th>\n",
       "      <td>36.8304</td>\n",
       "      <td>36.8993</td>\n",
       "      <td>36.8434</td>\n",
       "      <td>36.8324</td>\n",
       "      <td>36.7921</td>\n",
       "    </tr>\n",
       "    <tr>\n",
       "      <th>Destination Lat</th>\n",
       "      <td>-1.30041</td>\n",
       "      <td>-1.295</td>\n",
       "      <td>-1.30092</td>\n",
       "      <td>-1.25715</td>\n",
       "      <td>-1.29504</td>\n",
       "    </tr>\n",
       "    <tr>\n",
       "      <th>Destination Long</th>\n",
       "      <td>36.8297</td>\n",
       "      <td>36.8144</td>\n",
       "      <td>36.8282</td>\n",
       "      <td>36.7951</td>\n",
       "      <td>36.8098</td>\n",
       "    </tr>\n",
       "    <tr>\n",
       "      <th>Rider Id</th>\n",
       "      <td>Rider_Id_432</td>\n",
       "      <td>Rider_Id_856</td>\n",
       "      <td>Rider_Id_155</td>\n",
       "      <td>Rider_Id_855</td>\n",
       "      <td>Rider_Id_770</td>\n",
       "    </tr>\n",
       "    <tr>\n",
       "      <th>Time from Pickup to Arrival</th>\n",
       "      <td>745</td>\n",
       "      <td>1993</td>\n",
       "      <td>455</td>\n",
       "      <td>1341</td>\n",
       "      <td>1214</td>\n",
       "    </tr>\n",
       "    <tr>\n",
       "      <th>No_Of_Orders</th>\n",
       "      <td>1637</td>\n",
       "      <td>396</td>\n",
       "      <td>1023</td>\n",
       "      <td>886</td>\n",
       "      <td>2311</td>\n",
       "    </tr>\n",
       "    <tr>\n",
       "      <th>Age</th>\n",
       "      <td>1309</td>\n",
       "      <td>339</td>\n",
       "      <td>242</td>\n",
       "      <td>283</td>\n",
       "      <td>872</td>\n",
       "    </tr>\n",
       "    <tr>\n",
       "      <th>Average_Rating</th>\n",
       "      <td>13.8</td>\n",
       "      <td>13.6</td>\n",
       "      <td>12.5</td>\n",
       "      <td>14.5</td>\n",
       "      <td>14.1</td>\n",
       "    </tr>\n",
       "    <tr>\n",
       "      <th>No_of_Ratings</th>\n",
       "      <td>549</td>\n",
       "      <td>69</td>\n",
       "      <td>114</td>\n",
       "      <td>113</td>\n",
       "      <td>533</td>\n",
       "    </tr>\n",
       "  </tbody>\n",
       "</table>\n",
       "</div>"
      ],
      "text/plain": [
       "                                                       0               1  \\\n",
       "Order No                                   Order_No_4211  Order_No_25375   \n",
       "User Id                                      User_Id_633    User_Id_2285   \n",
       "Vehicle Type                                        Bike            Bike   \n",
       "Platform Type                                          3               3   \n",
       "Personal or Business                            Business        Personal   \n",
       "Placement - Day of Month                               9              12   \n",
       "Placement - Weekday (Mo = 1)                           5               5   \n",
       "Placement - Time                              9:35:46 AM     11:16:16 AM   \n",
       "Confirmation - Day of Month                            9              12   \n",
       "Confirmation - Weekday (Mo = 1)                        5               5   \n",
       "Confirmation - Time                           9:40:10 AM     11:23:21 AM   \n",
       "Arrival at Pickup - Day of Month                       9              12   \n",
       "Arrival at Pickup - Weekday (Mo = 1)                   5               5   \n",
       "Arrival at Pickup - Time                     10:04:47 AM     11:40:22 AM   \n",
       "Pickup - Day of Month                                  9              12   \n",
       "Pickup - Weekday (Mo = 1)                              5               5   \n",
       "Pickup - Time                                10:27:30 AM     11:44:09 AM   \n",
       "Arrival at Destination - Day of Month                  9              12   \n",
       "Arrival at Destination - Weekday (Mo = 1)              5               5   \n",
       "Arrival at Destination - Time                10:39:55 AM     12:17:22 PM   \n",
       "Distance (KM)                                          4              16   \n",
       "Temperature                                         20.4            26.4   \n",
       "Precipitation in millimeters                         NaN             NaN   \n",
       "Pickup Lat                                      -1.31775        -1.35145   \n",
       "Pickup Long                                      36.8304         36.8993   \n",
       "Destination Lat                                 -1.30041          -1.295   \n",
       "Destination Long                                 36.8297         36.8144   \n",
       "Rider Id                                    Rider_Id_432    Rider_Id_856   \n",
       "Time from Pickup to Arrival                          745            1993   \n",
       "No_Of_Orders                                        1637             396   \n",
       "Age                                                 1309             339   \n",
       "Average_Rating                                      13.8            13.6   \n",
       "No_of_Ratings                                        549              69   \n",
       "\n",
       "                                                       2              3  \\\n",
       "Order No                                   Order_No_1899  Order_No_9336   \n",
       "User Id                                      User_Id_265   User_Id_1402   \n",
       "Vehicle Type                                        Bike           Bike   \n",
       "Platform Type                                          3              3   \n",
       "Personal or Business                            Business       Business   \n",
       "Placement - Day of Month                              30             15   \n",
       "Placement - Weekday (Mo = 1)                           2              5   \n",
       "Placement - Time                             12:39:25 PM     9:25:34 AM   \n",
       "Confirmation - Day of Month                           30             15   \n",
       "Confirmation - Weekday (Mo = 1)                        2              5   \n",
       "Confirmation - Time                          12:42:44 PM     9:26:05 AM   \n",
       "Arrival at Pickup - Day of Month                      30             15   \n",
       "Arrival at Pickup - Weekday (Mo = 1)                   2              5   \n",
       "Arrival at Pickup - Time                     12:49:34 PM     9:37:56 AM   \n",
       "Pickup - Day of Month                                 30             15   \n",
       "Pickup - Weekday (Mo = 1)                              2              5   \n",
       "Pickup - Time                                12:53:03 PM     9:43:06 AM   \n",
       "Arrival at Destination - Day of Month                 30             15   \n",
       "Arrival at Destination - Weekday (Mo = 1)              2              5   \n",
       "Arrival at Destination - Time                 1:00:38 PM    10:05:27 AM   \n",
       "Distance (KM)                                          3              9   \n",
       "Temperature                                          NaN           19.2   \n",
       "Precipitation in millimeters                         NaN            NaN   \n",
       "Pickup Lat                                      -1.30828        -1.2813   \n",
       "Pickup Long                                      36.8434        36.8324   \n",
       "Destination Lat                                 -1.30092       -1.25715   \n",
       "Destination Long                                 36.8282        36.7951   \n",
       "Rider Id                                    Rider_Id_155   Rider_Id_855   \n",
       "Time from Pickup to Arrival                          455           1341   \n",
       "No_Of_Orders                                        1023            886   \n",
       "Age                                                  242            283   \n",
       "Average_Rating                                      12.5           14.5   \n",
       "No_of_Ratings                                        114            113   \n",
       "\n",
       "                                                        4  \n",
       "Order No                                   Order_No_27883  \n",
       "User Id                                      User_Id_1737  \n",
       "Vehicle Type                                         Bike  \n",
       "Platform Type                                           1  \n",
       "Personal or Business                             Personal  \n",
       "Placement - Day of Month                               13  \n",
       "Placement - Weekday (Mo = 1)                            1  \n",
       "Placement - Time                               9:55:18 AM  \n",
       "Confirmation - Day of Month                            13  \n",
       "Confirmation - Weekday (Mo = 1)                         1  \n",
       "Confirmation - Time                            9:56:18 AM  \n",
       "Arrival at Pickup - Day of Month                       13  \n",
       "Arrival at Pickup - Weekday (Mo = 1)                    1  \n",
       "Arrival at Pickup - Time                      10:03:53 AM  \n",
       "Pickup - Day of Month                                  13  \n",
       "Pickup - Weekday (Mo = 1)                               1  \n",
       "Pickup - Time                                 10:05:23 AM  \n",
       "Arrival at Destination - Day of Month                  13  \n",
       "Arrival at Destination - Weekday (Mo = 1)               1  \n",
       "Arrival at Destination - Time                 10:25:37 AM  \n",
       "Distance (KM)                                           9  \n",
       "Temperature                                          15.4  \n",
       "Precipitation in millimeters                          NaN  \n",
       "Pickup Lat                                        -1.2666  \n",
       "Pickup Long                                       36.7921  \n",
       "Destination Lat                                  -1.29504  \n",
       "Destination Long                                  36.8098  \n",
       "Rider Id                                     Rider_Id_770  \n",
       "Time from Pickup to Arrival                          1214  \n",
       "No_Of_Orders                                         2311  \n",
       "Age                                                   872  \n",
       "Average_Rating                                       14.1  \n",
       "No_of_Ratings                                         533  "
      ]
     },
     "execution_count": 7,
     "metadata": {},
     "output_type": "execute_result"
    }
   ],
   "source": [
    "train.head().T"
   ]
  },
  {
   "cell_type": "code",
   "execution_count": 5,
   "metadata": {},
   "outputs": [
    {
     "data": {
      "text/html": [
       "<div>\n",
       "<style scoped>\n",
       "    .dataframe tbody tr th:only-of-type {\n",
       "        vertical-align: middle;\n",
       "    }\n",
       "\n",
       "    .dataframe tbody tr th {\n",
       "        vertical-align: top;\n",
       "    }\n",
       "\n",
       "    .dataframe thead th {\n",
       "        text-align: right;\n",
       "    }\n",
       "</style>\n",
       "<table border=\"1\" class=\"dataframe\">\n",
       "  <thead>\n",
       "    <tr style=\"text-align: right;\">\n",
       "      <th></th>\n",
       "      <th>0</th>\n",
       "      <th>1</th>\n",
       "      <th>2</th>\n",
       "      <th>3</th>\n",
       "      <th>4</th>\n",
       "    </tr>\n",
       "  </thead>\n",
       "  <tbody>\n",
       "    <tr>\n",
       "      <th>Order No</th>\n",
       "      <td>Order_No_19248</td>\n",
       "      <td>Order_No_12736</td>\n",
       "      <td>Order_No_768</td>\n",
       "      <td>Order_No_15332</td>\n",
       "      <td>Order_No_21373</td>\n",
       "    </tr>\n",
       "    <tr>\n",
       "      <th>User Id</th>\n",
       "      <td>User_Id_3355</td>\n",
       "      <td>User_Id_3647</td>\n",
       "      <td>User_Id_2154</td>\n",
       "      <td>User_Id_2910</td>\n",
       "      <td>User_Id_1205</td>\n",
       "    </tr>\n",
       "    <tr>\n",
       "      <th>Vehicle Type</th>\n",
       "      <td>Bike</td>\n",
       "      <td>Bike</td>\n",
       "      <td>Bike</td>\n",
       "      <td>Bike</td>\n",
       "      <td>Bike</td>\n",
       "    </tr>\n",
       "    <tr>\n",
       "      <th>Platform Type</th>\n",
       "      <td>3</td>\n",
       "      <td>3</td>\n",
       "      <td>3</td>\n",
       "      <td>3</td>\n",
       "      <td>3</td>\n",
       "    </tr>\n",
       "    <tr>\n",
       "      <th>Personal or Business</th>\n",
       "      <td>Business</td>\n",
       "      <td>Business</td>\n",
       "      <td>Business</td>\n",
       "      <td>Business</td>\n",
       "      <td>Business</td>\n",
       "    </tr>\n",
       "    <tr>\n",
       "      <th>Placement - Day of Month</th>\n",
       "      <td>27</td>\n",
       "      <td>17</td>\n",
       "      <td>27</td>\n",
       "      <td>17</td>\n",
       "      <td>11</td>\n",
       "    </tr>\n",
       "    <tr>\n",
       "      <th>Placement - Weekday (Mo = 1)</th>\n",
       "      <td>3</td>\n",
       "      <td>5</td>\n",
       "      <td>4</td>\n",
       "      <td>1</td>\n",
       "      <td>2</td>\n",
       "    </tr>\n",
       "    <tr>\n",
       "      <th>Placement - Time</th>\n",
       "      <td>4:44:10 PM</td>\n",
       "      <td>12:57:35 PM</td>\n",
       "      <td>11:08:14 AM</td>\n",
       "      <td>1:51:35 PM</td>\n",
       "      <td>11:30:28 AM</td>\n",
       "    </tr>\n",
       "    <tr>\n",
       "      <th>Confirmation - Day of Month</th>\n",
       "      <td>27</td>\n",
       "      <td>17</td>\n",
       "      <td>27</td>\n",
       "      <td>17</td>\n",
       "      <td>11</td>\n",
       "    </tr>\n",
       "    <tr>\n",
       "      <th>Confirmation - Weekday (Mo = 1)</th>\n",
       "      <td>3</td>\n",
       "      <td>5</td>\n",
       "      <td>4</td>\n",
       "      <td>1</td>\n",
       "      <td>2</td>\n",
       "    </tr>\n",
       "    <tr>\n",
       "      <th>Confirmation - Time</th>\n",
       "      <td>4:44:29 PM</td>\n",
       "      <td>12:59:17 PM</td>\n",
       "      <td>11:25:05 AM</td>\n",
       "      <td>1:53:27 PM</td>\n",
       "      <td>11:34:45 AM</td>\n",
       "    </tr>\n",
       "    <tr>\n",
       "      <th>Arrival at Pickup - Day of Month</th>\n",
       "      <td>27</td>\n",
       "      <td>17</td>\n",
       "      <td>27</td>\n",
       "      <td>17</td>\n",
       "      <td>11</td>\n",
       "    </tr>\n",
       "    <tr>\n",
       "      <th>Arrival at Pickup - Weekday (Mo = 1)</th>\n",
       "      <td>3</td>\n",
       "      <td>5</td>\n",
       "      <td>4</td>\n",
       "      <td>1</td>\n",
       "      <td>2</td>\n",
       "    </tr>\n",
       "    <tr>\n",
       "      <th>Arrival at Pickup - Time</th>\n",
       "      <td>4:53:04 PM</td>\n",
       "      <td>1:20:27 PM</td>\n",
       "      <td>11:33:20 AM</td>\n",
       "      <td>2:02:41 PM</td>\n",
       "      <td>11:47:19 AM</td>\n",
       "    </tr>\n",
       "    <tr>\n",
       "      <th>Pickup - Day of Month</th>\n",
       "      <td>27</td>\n",
       "      <td>17</td>\n",
       "      <td>27</td>\n",
       "      <td>17</td>\n",
       "      <td>11</td>\n",
       "    </tr>\n",
       "    <tr>\n",
       "      <th>Pickup - Weekday (Mo = 1)</th>\n",
       "      <td>3</td>\n",
       "      <td>5</td>\n",
       "      <td>4</td>\n",
       "      <td>1</td>\n",
       "      <td>2</td>\n",
       "    </tr>\n",
       "    <tr>\n",
       "      <th>Pickup - Time</th>\n",
       "      <td>5:06:47 PM</td>\n",
       "      <td>1:25:37 PM</td>\n",
       "      <td>11:57:54 AM</td>\n",
       "      <td>2:16:52 PM</td>\n",
       "      <td>11:56:04 AM</td>\n",
       "    </tr>\n",
       "    <tr>\n",
       "      <th>Distance (KM)</th>\n",
       "      <td>8</td>\n",
       "      <td>5</td>\n",
       "      <td>5</td>\n",
       "      <td>5</td>\n",
       "      <td>6</td>\n",
       "    </tr>\n",
       "    <tr>\n",
       "      <th>Temperature</th>\n",
       "      <td>NaN</td>\n",
       "      <td>NaN</td>\n",
       "      <td>22.8</td>\n",
       "      <td>24.5</td>\n",
       "      <td>24.4</td>\n",
       "    </tr>\n",
       "    <tr>\n",
       "      <th>Precipitation in millimeters</th>\n",
       "      <td>NaN</td>\n",
       "      <td>NaN</td>\n",
       "      <td>NaN</td>\n",
       "      <td>NaN</td>\n",
       "      <td>NaN</td>\n",
       "    </tr>\n",
       "    <tr>\n",
       "      <th>Pickup Lat</th>\n",
       "      <td>-1.33327</td>\n",
       "      <td>-1.27264</td>\n",
       "      <td>-1.29089</td>\n",
       "      <td>-1.2905</td>\n",
       "      <td>-1.28108</td>\n",
       "    </tr>\n",
       "    <tr>\n",
       "      <th>Pickup Long</th>\n",
       "      <td>36.8708</td>\n",
       "      <td>36.7947</td>\n",
       "      <td>36.823</td>\n",
       "      <td>36.8096</td>\n",
       "      <td>36.8144</td>\n",
       "    </tr>\n",
       "    <tr>\n",
       "      <th>Destination Lat</th>\n",
       "      <td>-1.30525</td>\n",
       "      <td>-1.27701</td>\n",
       "      <td>-1.27657</td>\n",
       "      <td>-1.30338</td>\n",
       "      <td>-1.26647</td>\n",
       "    </tr>\n",
       "    <tr>\n",
       "      <th>Destination Long</th>\n",
       "      <td>36.8224</td>\n",
       "      <td>36.8239</td>\n",
       "      <td>36.8514</td>\n",
       "      <td>36.7907</td>\n",
       "      <td>36.7922</td>\n",
       "    </tr>\n",
       "    <tr>\n",
       "      <th>Rider Id</th>\n",
       "      <td>Rider_Id_192</td>\n",
       "      <td>Rider_Id_868</td>\n",
       "      <td>Rider_Id_26</td>\n",
       "      <td>Rider_Id_685</td>\n",
       "      <td>Rider_Id_858</td>\n",
       "    </tr>\n",
       "  </tbody>\n",
       "</table>\n",
       "</div>"
      ],
      "text/plain": [
       "                                                   0               1  \\\n",
       "Order No                              Order_No_19248  Order_No_12736   \n",
       "User Id                                 User_Id_3355    User_Id_3647   \n",
       "Vehicle Type                                    Bike            Bike   \n",
       "Platform Type                                      3               3   \n",
       "Personal or Business                        Business        Business   \n",
       "Placement - Day of Month                          27              17   \n",
       "Placement - Weekday (Mo = 1)                       3               5   \n",
       "Placement - Time                          4:44:10 PM     12:57:35 PM   \n",
       "Confirmation - Day of Month                       27              17   \n",
       "Confirmation - Weekday (Mo = 1)                    3               5   \n",
       "Confirmation - Time                       4:44:29 PM     12:59:17 PM   \n",
       "Arrival at Pickup - Day of Month                  27              17   \n",
       "Arrival at Pickup - Weekday (Mo = 1)               3               5   \n",
       "Arrival at Pickup - Time                  4:53:04 PM      1:20:27 PM   \n",
       "Pickup - Day of Month                             27              17   \n",
       "Pickup - Weekday (Mo = 1)                          3               5   \n",
       "Pickup - Time                             5:06:47 PM      1:25:37 PM   \n",
       "Distance (KM)                                      8               5   \n",
       "Temperature                                      NaN             NaN   \n",
       "Precipitation in millimeters                     NaN             NaN   \n",
       "Pickup Lat                                  -1.33327        -1.27264   \n",
       "Pickup Long                                  36.8708         36.7947   \n",
       "Destination Lat                             -1.30525        -1.27701   \n",
       "Destination Long                             36.8224         36.8239   \n",
       "Rider Id                                Rider_Id_192    Rider_Id_868   \n",
       "\n",
       "                                                 2               3  \\\n",
       "Order No                              Order_No_768  Order_No_15332   \n",
       "User Id                               User_Id_2154    User_Id_2910   \n",
       "Vehicle Type                                  Bike            Bike   \n",
       "Platform Type                                    3               3   \n",
       "Personal or Business                      Business        Business   \n",
       "Placement - Day of Month                        27              17   \n",
       "Placement - Weekday (Mo = 1)                     4               1   \n",
       "Placement - Time                       11:08:14 AM      1:51:35 PM   \n",
       "Confirmation - Day of Month                     27              17   \n",
       "Confirmation - Weekday (Mo = 1)                  4               1   \n",
       "Confirmation - Time                    11:25:05 AM      1:53:27 PM   \n",
       "Arrival at Pickup - Day of Month                27              17   \n",
       "Arrival at Pickup - Weekday (Mo = 1)             4               1   \n",
       "Arrival at Pickup - Time               11:33:20 AM      2:02:41 PM   \n",
       "Pickup - Day of Month                           27              17   \n",
       "Pickup - Weekday (Mo = 1)                        4               1   \n",
       "Pickup - Time                          11:57:54 AM      2:16:52 PM   \n",
       "Distance (KM)                                    5               5   \n",
       "Temperature                                   22.8            24.5   \n",
       "Precipitation in millimeters                   NaN             NaN   \n",
       "Pickup Lat                                -1.29089         -1.2905   \n",
       "Pickup Long                                 36.823         36.8096   \n",
       "Destination Lat                           -1.27657        -1.30338   \n",
       "Destination Long                           36.8514         36.7907   \n",
       "Rider Id                               Rider_Id_26    Rider_Id_685   \n",
       "\n",
       "                                                   4  \n",
       "Order No                              Order_No_21373  \n",
       "User Id                                 User_Id_1205  \n",
       "Vehicle Type                                    Bike  \n",
       "Platform Type                                      3  \n",
       "Personal or Business                        Business  \n",
       "Placement - Day of Month                          11  \n",
       "Placement - Weekday (Mo = 1)                       2  \n",
       "Placement - Time                         11:30:28 AM  \n",
       "Confirmation - Day of Month                       11  \n",
       "Confirmation - Weekday (Mo = 1)                    2  \n",
       "Confirmation - Time                      11:34:45 AM  \n",
       "Arrival at Pickup - Day of Month                  11  \n",
       "Arrival at Pickup - Weekday (Mo = 1)               2  \n",
       "Arrival at Pickup - Time                 11:47:19 AM  \n",
       "Pickup - Day of Month                             11  \n",
       "Pickup - Weekday (Mo = 1)                          2  \n",
       "Pickup - Time                            11:56:04 AM  \n",
       "Distance (KM)                                      6  \n",
       "Temperature                                     24.4  \n",
       "Precipitation in millimeters                     NaN  \n",
       "Pickup Lat                                  -1.28108  \n",
       "Pickup Long                                  36.8144  \n",
       "Destination Lat                             -1.26647  \n",
       "Destination Long                             36.7922  \n",
       "Rider Id                                Rider_Id_858  "
      ]
     },
     "execution_count": 5,
     "metadata": {},
     "output_type": "execute_result"
    }
   ],
   "source": [
    "test.head().T"
   ]
  },
  {
   "cell_type": "code",
   "execution_count": 5,
   "metadata": {},
   "outputs": [
    {
     "data": {
      "text/html": [
       "<div>\n",
       "<style scoped>\n",
       "    .dataframe tbody tr th:only-of-type {\n",
       "        vertical-align: middle;\n",
       "    }\n",
       "\n",
       "    .dataframe tbody tr th {\n",
       "        vertical-align: top;\n",
       "    }\n",
       "\n",
       "    .dataframe thead th {\n",
       "        text-align: right;\n",
       "    }\n",
       "</style>\n",
       "<table border=\"1\" class=\"dataframe\">\n",
       "  <thead>\n",
       "    <tr style=\"text-align: right;\">\n",
       "      <th></th>\n",
       "      <th>Rider Id</th>\n",
       "      <th>No_Of_Orders</th>\n",
       "      <th>Age</th>\n",
       "      <th>Average_Rating</th>\n",
       "      <th>No_of_Ratings</th>\n",
       "    </tr>\n",
       "  </thead>\n",
       "  <tbody>\n",
       "    <tr>\n",
       "      <th>0</th>\n",
       "      <td>Rider_Id_396</td>\n",
       "      <td>2946</td>\n",
       "      <td>2298</td>\n",
       "      <td>14.0</td>\n",
       "      <td>1159</td>\n",
       "    </tr>\n",
       "    <tr>\n",
       "      <th>1</th>\n",
       "      <td>Rider_Id_479</td>\n",
       "      <td>360</td>\n",
       "      <td>951</td>\n",
       "      <td>13.5</td>\n",
       "      <td>176</td>\n",
       "    </tr>\n",
       "    <tr>\n",
       "      <th>2</th>\n",
       "      <td>Rider_Id_648</td>\n",
       "      <td>1746</td>\n",
       "      <td>821</td>\n",
       "      <td>14.3</td>\n",
       "      <td>466</td>\n",
       "    </tr>\n",
       "    <tr>\n",
       "      <th>3</th>\n",
       "      <td>Rider_Id_753</td>\n",
       "      <td>314</td>\n",
       "      <td>980</td>\n",
       "      <td>12.5</td>\n",
       "      <td>75</td>\n",
       "    </tr>\n",
       "    <tr>\n",
       "      <th>4</th>\n",
       "      <td>Rider_Id_335</td>\n",
       "      <td>536</td>\n",
       "      <td>1113</td>\n",
       "      <td>13.7</td>\n",
       "      <td>156</td>\n",
       "    </tr>\n",
       "  </tbody>\n",
       "</table>\n",
       "</div>"
      ],
      "text/plain": [
       "       Rider Id  No_Of_Orders   Age  Average_Rating  No_of_Ratings\n",
       "0  Rider_Id_396          2946  2298            14.0           1159\n",
       "1  Rider_Id_479           360   951            13.5            176\n",
       "2  Rider_Id_648          1746   821            14.3            466\n",
       "3  Rider_Id_753           314   980            12.5             75\n",
       "4  Rider_Id_335           536  1113            13.7            156"
      ]
     },
     "execution_count": 5,
     "metadata": {},
     "output_type": "execute_result"
    }
   ],
   "source": [
    "riders.head()"
   ]
  },
  {
   "cell_type": "markdown",
   "metadata": {},
   "source": [
    "."
   ]
  },
  {
   "cell_type": "markdown",
   "metadata": {},
   "source": [
    "# **DATA EXPLORATION**"
   ]
  },
  {
   "cell_type": "markdown",
   "metadata": {},
   "source": [
    "## Global explo on 3 datasets"
   ]
  },
  {
   "cell_type": "code",
   "execution_count": 9,
   "metadata": {},
   "outputs": [
    {
     "data": {
      "text/plain": [
       "(21201, 29)"
      ]
     },
     "execution_count": 9,
     "metadata": {},
     "output_type": "execute_result"
    }
   ],
   "source": [
    "train.shape"
   ]
  },
  {
   "cell_type": "code",
   "execution_count": 10,
   "metadata": {},
   "outputs": [
    {
     "data": {
      "text/plain": [
       "Index(['Order No', 'User Id', 'Vehicle Type', 'Platform Type',\n",
       "       'Personal or Business', 'Placement - Day of Month',\n",
       "       'Placement - Weekday (Mo = 1)', 'Placement - Time',\n",
       "       'Confirmation - Day of Month', 'Confirmation - Weekday (Mo = 1)',\n",
       "       'Confirmation - Time', 'Arrival at Pickup - Day of Month',\n",
       "       'Arrival at Pickup - Weekday (Mo = 1)', 'Arrival at Pickup - Time',\n",
       "       'Pickup - Day of Month', 'Pickup - Weekday (Mo = 1)', 'Pickup - Time',\n",
       "       'Arrival at Destination - Day of Month',\n",
       "       'Arrival at Destination - Weekday (Mo = 1)',\n",
       "       'Arrival at Destination - Time', 'Distance (KM)', 'Temperature',\n",
       "       'Precipitation in millimeters', 'Pickup Lat', 'Pickup Long',\n",
       "       'Destination Lat', 'Destination Long', 'Rider Id',\n",
       "       'Time from Pickup to Arrival'],\n",
       "      dtype='object')"
      ]
     },
     "execution_count": 10,
     "metadata": {},
     "output_type": "execute_result"
    }
   ],
   "source": [
    "train.columns"
   ]
  },
  {
   "cell_type": "code",
   "execution_count": 13,
   "metadata": {},
   "outputs": [
    {
     "data": {
      "text/plain": [
       "Order No                                     0.000000\n",
       "User Id                                      0.000000\n",
       "Vehicle Type                                 0.000000\n",
       "Platform Type                                0.000000\n",
       "Personal or Business                         0.000000\n",
       "Placement - Day of Month                     0.000000\n",
       "Placement - Weekday (Mo = 1)                 0.000000\n",
       "Placement - Time                             0.000000\n",
       "Confirmation - Day of Month                  0.000000\n",
       "Confirmation - Weekday (Mo = 1)              0.000000\n",
       "Confirmation - Time                          0.000000\n",
       "Arrival at Pickup - Day of Month             0.000000\n",
       "Arrival at Pickup - Weekday (Mo = 1)         0.000000\n",
       "Arrival at Pickup - Time                     0.000000\n",
       "Pickup - Day of Month                        0.000000\n",
       "Pickup - Weekday (Mo = 1)                    0.000000\n",
       "Pickup - Time                                0.000000\n",
       "Arrival at Destination - Day of Month        0.000000\n",
       "Arrival at Destination - Weekday (Mo = 1)    0.000000\n",
       "Arrival at Destination - Time                0.000000\n",
       "Distance (KM)                                0.000000\n",
       "Temperature                                  0.205934\n",
       "Precipitation in millimeters                 0.973963\n",
       "Pickup Lat                                   0.000000\n",
       "Pickup Long                                  0.000000\n",
       "Destination Lat                              0.000000\n",
       "Destination Long                             0.000000\n",
       "Rider Id                                     0.000000\n",
       "Time from Pickup to Arrival                  0.000000\n",
       "dtype: float64"
      ]
     },
     "execution_count": 13,
     "metadata": {},
     "output_type": "execute_result"
    }
   ],
   "source": [
    "train.isnull().sum()/train.shape[0]"
   ]
  },
  {
   "cell_type": "code",
   "execution_count": 15,
   "metadata": {},
   "outputs": [
    {
     "data": {
      "text/plain": [
       "(960, 5)"
      ]
     },
     "execution_count": 15,
     "metadata": {},
     "output_type": "execute_result"
    }
   ],
   "source": [
    "riders.shape"
   ]
  },
  {
   "cell_type": "code",
   "execution_count": 16,
   "metadata": {},
   "outputs": [
    {
     "data": {
      "text/plain": [
       "Rider Id          0\n",
       "No_Of_Orders      0\n",
       "Age               0\n",
       "Average_Rating    0\n",
       "No_of_Ratings     0\n",
       "dtype: int64"
      ]
     },
     "execution_count": 16,
     "metadata": {},
     "output_type": "execute_result"
    }
   ],
   "source": [
    "riders.isnull().sum()"
   ]
  },
  {
   "cell_type": "code",
   "execution_count": 4,
   "metadata": {},
   "outputs": [
    {
     "data": {
      "text/plain": [
       "3186"
      ]
     },
     "execution_count": 4,
     "metadata": {},
     "output_type": "execute_result"
    }
   ],
   "source": [
    "train['User Id'].nunique()"
   ]
  },
  {
   "cell_type": "code",
   "execution_count": 28,
   "metadata": {},
   "outputs": [
    {
     "data": {
      "text/plain": [
       "Order No                                0.000000\n",
       "User Id                                 0.000000\n",
       "Vehicle Type                            0.000000\n",
       "Platform Type                           0.000000\n",
       "Personal or Business                    0.000000\n",
       "Placement - Day of Month                0.000000\n",
       "Placement - Weekday (Mo = 1)            0.000000\n",
       "Placement - Time                        0.000000\n",
       "Confirmation - Day of Month             0.000000\n",
       "Confirmation - Weekday (Mo = 1)         0.000000\n",
       "Confirmation - Time                     0.000000\n",
       "Arrival at Pickup - Day of Month        0.000000\n",
       "Arrival at Pickup - Weekday (Mo = 1)    0.000000\n",
       "Arrival at Pickup - Time                0.000000\n",
       "Pickup - Day of Month                   0.000000\n",
       "Pickup - Weekday (Mo = 1)               0.000000\n",
       "Pickup - Time                           0.000000\n",
       "Distance (KM)                           0.000000\n",
       "Temperature                             0.203311\n",
       "Precipitation in millimeters            0.971845\n",
       "Pickup Lat                              0.000000\n",
       "Pickup Long                             0.000000\n",
       "Destination Lat                         0.000000\n",
       "Destination Long                        0.000000\n",
       "Rider Id                                0.000000\n",
       "dtype: float64"
      ]
     },
     "execution_count": 28,
     "metadata": {},
     "output_type": "execute_result"
    }
   ],
   "source": [
    "test.isnull().sum()/test.shape[0]"
   ]
  },
  {
   "cell_type": "markdown",
   "metadata": {},
   "source": [
    "."
   ]
  },
  {
   "cell_type": "markdown",
   "metadata": {},
   "source": [
    "## Exploration on train dataset"
   ]
  },
  {
   "cell_type": "code",
   "execution_count": 31,
   "metadata": {},
   "outputs": [
    {
     "data": {
      "text/html": [
       "<div>\n",
       "<style scoped>\n",
       "    .dataframe tbody tr th:only-of-type {\n",
       "        vertical-align: middle;\n",
       "    }\n",
       "\n",
       "    .dataframe tbody tr th {\n",
       "        vertical-align: top;\n",
       "    }\n",
       "\n",
       "    .dataframe thead th {\n",
       "        text-align: right;\n",
       "    }\n",
       "</style>\n",
       "<table border=\"1\" class=\"dataframe\">\n",
       "  <thead>\n",
       "    <tr style=\"text-align: right;\">\n",
       "      <th></th>\n",
       "      <th>Order No</th>\n",
       "      <th>User Id</th>\n",
       "      <th>Vehicle Type</th>\n",
       "      <th>Platform Type</th>\n",
       "      <th>Personal or Business</th>\n",
       "      <th>Placement - Day of Month</th>\n",
       "      <th>Placement - Weekday (Mo = 1)</th>\n",
       "      <th>Placement - Time</th>\n",
       "      <th>Confirmation - Day of Month</th>\n",
       "      <th>Confirmation - Weekday (Mo = 1)</th>\n",
       "      <th>...</th>\n",
       "      <th>Arrival at Destination - Time</th>\n",
       "      <th>Distance (KM)</th>\n",
       "      <th>Temperature</th>\n",
       "      <th>Precipitation in millimeters</th>\n",
       "      <th>Pickup Lat</th>\n",
       "      <th>Pickup Long</th>\n",
       "      <th>Destination Lat</th>\n",
       "      <th>Destination Long</th>\n",
       "      <th>Rider Id</th>\n",
       "      <th>Time from Pickup to Arrival</th>\n",
       "    </tr>\n",
       "  </thead>\n",
       "  <tbody>\n",
       "    <tr>\n",
       "      <th>0</th>\n",
       "      <td>Order_No_4211</td>\n",
       "      <td>User_Id_633</td>\n",
       "      <td>Bike</td>\n",
       "      <td>3</td>\n",
       "      <td>Business</td>\n",
       "      <td>9</td>\n",
       "      <td>5</td>\n",
       "      <td>9:35:46 AM</td>\n",
       "      <td>9</td>\n",
       "      <td>5</td>\n",
       "      <td>...</td>\n",
       "      <td>10:39:55 AM</td>\n",
       "      <td>4</td>\n",
       "      <td>20.4</td>\n",
       "      <td>NaN</td>\n",
       "      <td>-1.317755</td>\n",
       "      <td>36.830370</td>\n",
       "      <td>-1.300406</td>\n",
       "      <td>36.829741</td>\n",
       "      <td>Rider_Id_432</td>\n",
       "      <td>745</td>\n",
       "    </tr>\n",
       "    <tr>\n",
       "      <th>1</th>\n",
       "      <td>Order_No_25375</td>\n",
       "      <td>User_Id_2285</td>\n",
       "      <td>Bike</td>\n",
       "      <td>3</td>\n",
       "      <td>Personal</td>\n",
       "      <td>12</td>\n",
       "      <td>5</td>\n",
       "      <td>11:16:16 AM</td>\n",
       "      <td>12</td>\n",
       "      <td>5</td>\n",
       "      <td>...</td>\n",
       "      <td>12:17:22 PM</td>\n",
       "      <td>16</td>\n",
       "      <td>26.4</td>\n",
       "      <td>NaN</td>\n",
       "      <td>-1.351453</td>\n",
       "      <td>36.899315</td>\n",
       "      <td>-1.295004</td>\n",
       "      <td>36.814358</td>\n",
       "      <td>Rider_Id_856</td>\n",
       "      <td>1993</td>\n",
       "    </tr>\n",
       "    <tr>\n",
       "      <th>2</th>\n",
       "      <td>Order_No_1899</td>\n",
       "      <td>User_Id_265</td>\n",
       "      <td>Bike</td>\n",
       "      <td>3</td>\n",
       "      <td>Business</td>\n",
       "      <td>30</td>\n",
       "      <td>2</td>\n",
       "      <td>12:39:25 PM</td>\n",
       "      <td>30</td>\n",
       "      <td>2</td>\n",
       "      <td>...</td>\n",
       "      <td>1:00:38 PM</td>\n",
       "      <td>3</td>\n",
       "      <td>NaN</td>\n",
       "      <td>NaN</td>\n",
       "      <td>-1.308284</td>\n",
       "      <td>36.843419</td>\n",
       "      <td>-1.300921</td>\n",
       "      <td>36.828195</td>\n",
       "      <td>Rider_Id_155</td>\n",
       "      <td>455</td>\n",
       "    </tr>\n",
       "    <tr>\n",
       "      <th>3</th>\n",
       "      <td>Order_No_9336</td>\n",
       "      <td>User_Id_1402</td>\n",
       "      <td>Bike</td>\n",
       "      <td>3</td>\n",
       "      <td>Business</td>\n",
       "      <td>15</td>\n",
       "      <td>5</td>\n",
       "      <td>9:25:34 AM</td>\n",
       "      <td>15</td>\n",
       "      <td>5</td>\n",
       "      <td>...</td>\n",
       "      <td>10:05:27 AM</td>\n",
       "      <td>9</td>\n",
       "      <td>19.2</td>\n",
       "      <td>NaN</td>\n",
       "      <td>-1.281301</td>\n",
       "      <td>36.832396</td>\n",
       "      <td>-1.257147</td>\n",
       "      <td>36.795063</td>\n",
       "      <td>Rider_Id_855</td>\n",
       "      <td>1341</td>\n",
       "    </tr>\n",
       "    <tr>\n",
       "      <th>4</th>\n",
       "      <td>Order_No_27883</td>\n",
       "      <td>User_Id_1737</td>\n",
       "      <td>Bike</td>\n",
       "      <td>1</td>\n",
       "      <td>Personal</td>\n",
       "      <td>13</td>\n",
       "      <td>1</td>\n",
       "      <td>9:55:18 AM</td>\n",
       "      <td>13</td>\n",
       "      <td>1</td>\n",
       "      <td>...</td>\n",
       "      <td>10:25:37 AM</td>\n",
       "      <td>9</td>\n",
       "      <td>15.4</td>\n",
       "      <td>NaN</td>\n",
       "      <td>-1.266597</td>\n",
       "      <td>36.792118</td>\n",
       "      <td>-1.295041</td>\n",
       "      <td>36.809817</td>\n",
       "      <td>Rider_Id_770</td>\n",
       "      <td>1214</td>\n",
       "    </tr>\n",
       "  </tbody>\n",
       "</table>\n",
       "<p>5 rows × 29 columns</p>\n",
       "</div>"
      ],
      "text/plain": [
       "         Order No       User Id Vehicle Type  Platform Type  \\\n",
       "0   Order_No_4211   User_Id_633         Bike              3   \n",
       "1  Order_No_25375  User_Id_2285         Bike              3   \n",
       "2   Order_No_1899   User_Id_265         Bike              3   \n",
       "3   Order_No_9336  User_Id_1402         Bike              3   \n",
       "4  Order_No_27883  User_Id_1737         Bike              1   \n",
       "\n",
       "  Personal or Business  Placement - Day of Month  \\\n",
       "0             Business                         9   \n",
       "1             Personal                        12   \n",
       "2             Business                        30   \n",
       "3             Business                        15   \n",
       "4             Personal                        13   \n",
       "\n",
       "   Placement - Weekday (Mo = 1) Placement - Time  Confirmation - Day of Month  \\\n",
       "0                             5       9:35:46 AM                            9   \n",
       "1                             5      11:16:16 AM                           12   \n",
       "2                             2      12:39:25 PM                           30   \n",
       "3                             5       9:25:34 AM                           15   \n",
       "4                             1       9:55:18 AM                           13   \n",
       "\n",
       "   Confirmation - Weekday (Mo = 1)  ... Arrival at Destination - Time  \\\n",
       "0                                5  ...                   10:39:55 AM   \n",
       "1                                5  ...                   12:17:22 PM   \n",
       "2                                2  ...                    1:00:38 PM   \n",
       "3                                5  ...                   10:05:27 AM   \n",
       "4                                1  ...                   10:25:37 AM   \n",
       "\n",
       "   Distance (KM)  Temperature Precipitation in millimeters  Pickup Lat  \\\n",
       "0              4         20.4                          NaN   -1.317755   \n",
       "1             16         26.4                          NaN   -1.351453   \n",
       "2              3          NaN                          NaN   -1.308284   \n",
       "3              9         19.2                          NaN   -1.281301   \n",
       "4              9         15.4                          NaN   -1.266597   \n",
       "\n",
       "   Pickup Long Destination Lat  Destination Long      Rider Id  \\\n",
       "0    36.830370       -1.300406         36.829741  Rider_Id_432   \n",
       "1    36.899315       -1.295004         36.814358  Rider_Id_856   \n",
       "2    36.843419       -1.300921         36.828195  Rider_Id_155   \n",
       "3    36.832396       -1.257147         36.795063  Rider_Id_855   \n",
       "4    36.792118       -1.295041         36.809817  Rider_Id_770   \n",
       "\n",
       "  Time from Pickup to Arrival  \n",
       "0                         745  \n",
       "1                        1993  \n",
       "2                         455  \n",
       "3                        1341  \n",
       "4                        1214  \n",
       "\n",
       "[5 rows x 29 columns]"
      ]
     },
     "execution_count": 31,
     "metadata": {},
     "output_type": "execute_result"
    }
   ],
   "source": [
    "train.head()"
   ]
  },
  {
   "cell_type": "code",
   "execution_count": 30,
   "metadata": {},
   "outputs": [
    {
     "data": {
      "text/plain": [
       "Bike    21201\n",
       "Name: Vehicle Type, dtype: int64"
      ]
     },
     "execution_count": 30,
     "metadata": {},
     "output_type": "execute_result"
    }
   ],
   "source": [
    "train['Vehicle Type'].value_counts()"
   ]
  },
  {
   "cell_type": "code",
   "execution_count": 33,
   "metadata": {},
   "outputs": [
    {
     "data": {
      "text/plain": [
       "Business    0.819961\n",
       "Personal    0.180039\n",
       "Name: Personal or Business, dtype: float64"
      ]
     },
     "execution_count": 33,
     "metadata": {},
     "output_type": "execute_result"
    }
   ],
   "source": [
    "train['Personal or Business'].value_counts(normalize=True)"
   ]
  },
  {
   "cell_type": "code",
   "execution_count": 34,
   "metadata": {},
   "outputs": [
    {
     "data": {
      "text/plain": [
       "3    0.851564\n",
       "1    0.101269\n",
       "2    0.046224\n",
       "4    0.000943\n",
       "Name: Platform Type, dtype: float64"
      ]
     },
     "execution_count": 34,
     "metadata": {},
     "output_type": "execute_result"
    }
   ],
   "source": [
    "train[\"Platform Type\"].value_counts(normalize=True)"
   ]
  },
  {
   "cell_type": "code",
   "execution_count": 36,
   "metadata": {},
   "outputs": [
    {
     "data": {
      "text/plain": [
       "Order No                                      object\n",
       "User Id                                       object\n",
       "Vehicle Type                                  object\n",
       "Platform Type                                  int64\n",
       "Personal or Business                          object\n",
       "Placement - Day of Month                       int64\n",
       "Placement - Weekday (Mo = 1)                   int64\n",
       "Placement - Time                              object\n",
       "Confirmation - Day of Month                    int64\n",
       "Confirmation - Weekday (Mo = 1)                int64\n",
       "Confirmation - Time                           object\n",
       "Arrival at Pickup - Day of Month               int64\n",
       "Arrival at Pickup - Weekday (Mo = 1)           int64\n",
       "Arrival at Pickup - Time                      object\n",
       "Pickup - Day of Month                          int64\n",
       "Pickup - Weekday (Mo = 1)                      int64\n",
       "Pickup - Time                                 object\n",
       "Arrival at Destination - Day of Month          int64\n",
       "Arrival at Destination - Weekday (Mo = 1)      int64\n",
       "Arrival at Destination - Time                 object\n",
       "Distance (KM)                                  int64\n",
       "Temperature                                  float64\n",
       "Precipitation in millimeters                 float64\n",
       "Pickup Lat                                   float64\n",
       "Pickup Long                                  float64\n",
       "Destination Lat                              float64\n",
       "Destination Long                             float64\n",
       "Rider Id                                      object\n",
       "Time from Pickup to Arrival                    int64\n",
       "dtype: object"
      ]
     },
     "execution_count": 36,
     "metadata": {},
     "output_type": "execute_result"
    }
   ],
   "source": [
    "train.dtypes"
   ]
  },
  {
   "cell_type": "code",
   "execution_count": 8,
   "metadata": {},
   "outputs": [],
   "source": [
    "train[\"Placement - Time\"] = pd.to_datetime(train[\"Placement - Time\"])\n",
    "train[\"Pickup - Time\"] = pd.to_datetime(train[\"Pickup - Time\"])"
   ]
  },
  {
   "cell_type": "code",
   "execution_count": 19,
   "metadata": {},
   "outputs": [
    {
     "data": {
      "text/plain": [
       "0        3104\n",
       "1        1673\n",
       "2         818\n",
       "3        1052\n",
       "4         605\n",
       "         ... \n",
       "21196    1530\n",
       "21197    1193\n",
       "21198    2676\n",
       "21199     816\n",
       "21200    1328\n",
       "Length: 21201, dtype: int64"
      ]
     },
     "execution_count": 19,
     "metadata": {},
     "output_type": "execute_result"
    }
   ],
   "source": [
    "a = train[\"Pickup - Time\"] - train[\"Placement - Time\"]\n",
    "a.dt.total_seconds().astype(int)"
   ]
  },
  {
   "cell_type": "code",
   "execution_count": 21,
   "metadata": {},
   "outputs": [
    {
     "data": {
      "text/plain": [
       "0       00:51:44\n",
       "1       00:27:53\n",
       "2       00:13:38\n",
       "3       00:17:32\n",
       "4       00:10:05\n",
       "          ...   \n",
       "21196   00:25:30\n",
       "21197   00:19:53\n",
       "21198   00:44:36\n",
       "21199   00:13:36\n",
       "21200   00:22:08\n",
       "Length: 21201, dtype: timedelta64[ns]"
      ]
     },
     "execution_count": 21,
     "metadata": {},
     "output_type": "execute_result"
    }
   ],
   "source": [
    "a"
   ]
  },
  {
   "cell_type": "code",
   "execution_count": 8,
   "metadata": {},
   "outputs": [
    {
     "data": {
      "text/plain": [
       "(array([5.792e+03, 7.996e+03, 4.226e+03, 2.147e+03, 7.190e+02, 2.340e+02,\n",
       "        6.000e+01, 2.000e+01, 4.000e+00, 3.000e+00]),\n",
       " array([ 1. ,  5.8, 10.6, 15.4, 20.2, 25. , 29.8, 34.6, 39.4, 44.2, 49. ]),\n",
       " <a list of 10 Patch objects>)"
      ]
     },
     "execution_count": 8,
     "metadata": {},
     "output_type": "execute_result"
    },
    {
     "data": {
      "image/png": "[encoded data removed]",
      "text/plain": [
       "<Figure size 432x288 with 1 Axes>"
      ]
     },
     "metadata": {
      "needs_background": "light"
     },
     "output_type": "display_data"
    }
   ],
   "source": [
    "plt.hist(train['Distance (KM)'])"
   ]
  },
  {
   "cell_type": "code",
   "execution_count": 6,
   "metadata": {},
   "outputs": [
    {
     "data": {
      "text/plain": [
       "(array([ 782.,  443., 2785., 5917., 5834., 3389., 1392.,  558.,   80.,\n",
       "          21.]),\n",
       " array([ 1.        ,  9.77862602, 18.55725204, 27.33587806, 36.11450408,\n",
       "        44.8931301 , 53.67175612, 62.45038214, 71.22900816, 80.00763418,\n",
       "        88.7862602 ]),\n",
       " <a list of 10 Patch objects>)"
      ]
     },
     "execution_count": 6,
     "metadata": {},
     "output_type": "execute_result"
    },
    {
     "data": {
      "image/png": "[encoded data removed]",
      "text/plain": [
       "<Figure size 432x288 with 1 Axes>"
      ]
     },
     "metadata": {
      "needs_background": "light"
     },
     "output_type": "display_data"
    }
   ],
   "source": [
    "plt.hist(np.sqrt(train['Time from Pickup to Arrival']))"
   ]
  },
  {
   "cell_type": "code",
   "execution_count": 14,
   "metadata": {},
   "outputs": [
    {
     "data": {
      "text/plain": [
       "<matplotlib.axes._subplots.AxesSubplot at 0x11df094a8>"
      ]
     },
     "execution_count": 14,
     "metadata": {},
     "output_type": "execute_result"
    },
    {
     "data": {
      "image/png": "[encoded data removed]",
      "text/plain": [
       "<Figure size 432x288 with 1 Axes>"
      ]
     },
     "metadata": {
      "needs_background": "light"
     },
     "output_type": "display_data"
    }
   ],
   "source": [
    "sns.scatterplot(x=\"Destination Long\", y=\"Destination Lat\", data=train)"
   ]
  },
  {
   "cell_type": "code",
   "execution_count": 15,
   "metadata": {},
   "outputs": [
    {
     "data": {
      "text/plain": [
       "<matplotlib.axes._subplots.AxesSubplot at 0x11e0ed940>"
      ]
     },
     "execution_count": 15,
     "metadata": {},
     "output_type": "execute_result"
    },
    {
     "data": {
      "image/png": "[encoded data removed]",
      "text/plain": [
       "<Figure size 432x288 with 1 Axes>"
      ]
     },
     "metadata": {
      "needs_background": "light"
     },
     "output_type": "display_data"
    }
   ],
   "source": [
    "sns.scatterplot(x=\"Pickup Long\", y=\"Pickup Lat\", data=train)"
   ]
  },
  {
   "cell_type": "code",
   "execution_count": null,
   "metadata": {},
   "outputs": [],
   "source": []
  }
 ],
 "metadata": {
  "kernelspec": {
   "display_name": "Python 3",
   "language": "python",
   "name": "python3"
  },
  "language_info": {
   "codemirror_mode": {
    "name": "ipython",
    "version": 3
   },
   "file_extension": ".py",
   "mimetype": "text/x-python",
   "name": "python",
   "nbconvert_exporter": "python",
   "pygments_lexer": "ipython3",
   "version": "3.7.3"
  }
 },
 "nbformat": 4,
 "nbformat_minor": 4
}
